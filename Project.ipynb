{
  "cells": [
    {
      "cell_type": "markdown",
      "metadata": {
        "id": "view-in-github",
        "colab_type": "text"
      },
      "source": [
        "<a href=\"https://colab.research.google.com/github/DDD86/Analytics_project/blob/main/Project.ipynb\" target=\"_parent\"><img src=\"https://colab.research.google.com/assets/colab-badge.svg\" alt=\"Open In Colab\"/></a>"
      ]
    },
    {
      "cell_type": "markdown",
      "id": "374d558c-c202-4265-9a7b-2a99b47d1618",
      "metadata": {
        "id": "374d558c-c202-4265-9a7b-2a99b47d1618"
      },
      "source": [
        "### Импорт необходимых библиотек"
      ]
    },
    {
      "cell_type": "code",
      "execution_count": 1,
      "id": "f1ecec01-a2e1-4036-a93c-8576ae019863",
      "metadata": {
        "id": "f1ecec01-a2e1-4036-a93c-8576ae019863"
      },
      "outputs": [],
      "source": [
        "import pandas as pd\n",
        "import numpy as np\n",
        "import matplotlib.pyplot as plt\n",
        "from sklearn.linear_model import LinearRegression\n",
        "from sklearn.metrics import mean_squared_error, r2_score"
      ]
    },
    {
      "cell_type": "markdown",
      "id": "5a7db7e2-7b32-4654-8a24-ae21e98e91af",
      "metadata": {
        "id": "5a7db7e2-7b32-4654-8a24-ae21e98e91af"
      },
      "source": [
        "### Загрузка данных"
      ]
    },
    {
      "cell_type": "code",
      "execution_count": 2,
      "id": "a5e1e88c-c65e-4237-87ba-4dfbf2f95c2e",
      "metadata": {
        "colab": {
          "base_uri": "https://localhost:8080/",
          "height": 206
        },
        "id": "a5e1e88c-c65e-4237-87ba-4dfbf2f95c2e",
        "outputId": "31f43f69-e415-48b8-9550-6d045b6d1bd1"
      },
      "outputs": [
        {
          "output_type": "execute_result",
          "data": {
            "text/plain": [
              "  Month  Sales\n",
              "0   Jan    200\n",
              "1   Feb    220\n",
              "2   Mar    250\n",
              "3   Apr    270\n",
              "4   May    300"
            ],
            "text/html": [
              "\n",
              "  <div id=\"df-ab8ef309-79e9-47eb-a714-9864d1135998\" class=\"colab-df-container\">\n",
              "    <div>\n",
              "<style scoped>\n",
              "    .dataframe tbody tr th:only-of-type {\n",
              "        vertical-align: middle;\n",
              "    }\n",
              "\n",
              "    .dataframe tbody tr th {\n",
              "        vertical-align: top;\n",
              "    }\n",
              "\n",
              "    .dataframe thead th {\n",
              "        text-align: right;\n",
              "    }\n",
              "</style>\n",
              "<table border=\"1\" class=\"dataframe\">\n",
              "  <thead>\n",
              "    <tr style=\"text-align: right;\">\n",
              "      <th></th>\n",
              "      <th>Month</th>\n",
              "      <th>Sales</th>\n",
              "    </tr>\n",
              "  </thead>\n",
              "  <tbody>\n",
              "    <tr>\n",
              "      <th>0</th>\n",
              "      <td>Jan</td>\n",
              "      <td>200</td>\n",
              "    </tr>\n",
              "    <tr>\n",
              "      <th>1</th>\n",
              "      <td>Feb</td>\n",
              "      <td>220</td>\n",
              "    </tr>\n",
              "    <tr>\n",
              "      <th>2</th>\n",
              "      <td>Mar</td>\n",
              "      <td>250</td>\n",
              "    </tr>\n",
              "    <tr>\n",
              "      <th>3</th>\n",
              "      <td>Apr</td>\n",
              "      <td>270</td>\n",
              "    </tr>\n",
              "    <tr>\n",
              "      <th>4</th>\n",
              "      <td>May</td>\n",
              "      <td>300</td>\n",
              "    </tr>\n",
              "  </tbody>\n",
              "</table>\n",
              "</div>\n",
              "    <div class=\"colab-df-buttons\">\n",
              "\n",
              "  <div class=\"colab-df-container\">\n",
              "    <button class=\"colab-df-convert\" onclick=\"convertToInteractive('df-ab8ef309-79e9-47eb-a714-9864d1135998')\"\n",
              "            title=\"Convert this dataframe to an interactive table.\"\n",
              "            style=\"display:none;\">\n",
              "\n",
              "  <svg xmlns=\"http://www.w3.org/2000/svg\" height=\"24px\" viewBox=\"0 -960 960 960\">\n",
              "    <path d=\"M120-120v-720h720v720H120Zm60-500h600v-160H180v160Zm220 220h160v-160H400v160Zm0 220h160v-160H400v160ZM180-400h160v-160H180v160Zm440 0h160v-160H620v160ZM180-180h160v-160H180v160Zm440 0h160v-160H620v160Z\"/>\n",
              "  </svg>\n",
              "    </button>\n",
              "\n",
              "  <style>\n",
              "    .colab-df-container {\n",
              "      display:flex;\n",
              "      gap: 12px;\n",
              "    }\n",
              "\n",
              "    .colab-df-convert {\n",
              "      background-color: #E8F0FE;\n",
              "      border: none;\n",
              "      border-radius: 50%;\n",
              "      cursor: pointer;\n",
              "      display: none;\n",
              "      fill: #1967D2;\n",
              "      height: 32px;\n",
              "      padding: 0 0 0 0;\n",
              "      width: 32px;\n",
              "    }\n",
              "\n",
              "    .colab-df-convert:hover {\n",
              "      background-color: #E2EBFA;\n",
              "      box-shadow: 0px 1px 2px rgba(60, 64, 67, 0.3), 0px 1px 3px 1px rgba(60, 64, 67, 0.15);\n",
              "      fill: #174EA6;\n",
              "    }\n",
              "\n",
              "    .colab-df-buttons div {\n",
              "      margin-bottom: 4px;\n",
              "    }\n",
              "\n",
              "    [theme=dark] .colab-df-convert {\n",
              "      background-color: #3B4455;\n",
              "      fill: #D2E3FC;\n",
              "    }\n",
              "\n",
              "    [theme=dark] .colab-df-convert:hover {\n",
              "      background-color: #434B5C;\n",
              "      box-shadow: 0px 1px 3px 1px rgba(0, 0, 0, 0.15);\n",
              "      filter: drop-shadow(0px 1px 2px rgba(0, 0, 0, 0.3));\n",
              "      fill: #FFFFFF;\n",
              "    }\n",
              "  </style>\n",
              "\n",
              "    <script>\n",
              "      const buttonEl =\n",
              "        document.querySelector('#df-ab8ef309-79e9-47eb-a714-9864d1135998 button.colab-df-convert');\n",
              "      buttonEl.style.display =\n",
              "        google.colab.kernel.accessAllowed ? 'block' : 'none';\n",
              "\n",
              "      async function convertToInteractive(key) {\n",
              "        const element = document.querySelector('#df-ab8ef309-79e9-47eb-a714-9864d1135998');\n",
              "        const dataTable =\n",
              "          await google.colab.kernel.invokeFunction('convertToInteractive',\n",
              "                                                    [key], {});\n",
              "        if (!dataTable) return;\n",
              "\n",
              "        const docLinkHtml = 'Like what you see? Visit the ' +\n",
              "          '<a target=\"_blank\" href=https://colab.research.google.com/notebooks/data_table.ipynb>data table notebook</a>'\n",
              "          + ' to learn more about interactive tables.';\n",
              "        element.innerHTML = '';\n",
              "        dataTable['output_type'] = 'display_data';\n",
              "        await google.colab.output.renderOutput(dataTable, element);\n",
              "        const docLink = document.createElement('div');\n",
              "        docLink.innerHTML = docLinkHtml;\n",
              "        element.appendChild(docLink);\n",
              "      }\n",
              "    </script>\n",
              "  </div>\n",
              "\n",
              "\n",
              "<div id=\"df-fbdc3933-bfd9-46e0-9699-97379cfedf2c\">\n",
              "  <button class=\"colab-df-quickchart\" onclick=\"quickchart('df-fbdc3933-bfd9-46e0-9699-97379cfedf2c')\"\n",
              "            title=\"Suggest charts\"\n",
              "            style=\"display:none;\">\n",
              "\n",
              "<svg xmlns=\"http://www.w3.org/2000/svg\" height=\"24px\"viewBox=\"0 0 24 24\"\n",
              "     width=\"24px\">\n",
              "    <g>\n",
              "        <path d=\"M19 3H5c-1.1 0-2 .9-2 2v14c0 1.1.9 2 2 2h14c1.1 0 2-.9 2-2V5c0-1.1-.9-2-2-2zM9 17H7v-7h2v7zm4 0h-2V7h2v10zm4 0h-2v-4h2v4z\"/>\n",
              "    </g>\n",
              "</svg>\n",
              "  </button>\n",
              "\n",
              "<style>\n",
              "  .colab-df-quickchart {\n",
              "      --bg-color: #E8F0FE;\n",
              "      --fill-color: #1967D2;\n",
              "      --hover-bg-color: #E2EBFA;\n",
              "      --hover-fill-color: #174EA6;\n",
              "      --disabled-fill-color: #AAA;\n",
              "      --disabled-bg-color: #DDD;\n",
              "  }\n",
              "\n",
              "  [theme=dark] .colab-df-quickchart {\n",
              "      --bg-color: #3B4455;\n",
              "      --fill-color: #D2E3FC;\n",
              "      --hover-bg-color: #434B5C;\n",
              "      --hover-fill-color: #FFFFFF;\n",
              "      --disabled-bg-color: #3B4455;\n",
              "      --disabled-fill-color: #666;\n",
              "  }\n",
              "\n",
              "  .colab-df-quickchart {\n",
              "    background-color: var(--bg-color);\n",
              "    border: none;\n",
              "    border-radius: 50%;\n",
              "    cursor: pointer;\n",
              "    display: none;\n",
              "    fill: var(--fill-color);\n",
              "    height: 32px;\n",
              "    padding: 0;\n",
              "    width: 32px;\n",
              "  }\n",
              "\n",
              "  .colab-df-quickchart:hover {\n",
              "    background-color: var(--hover-bg-color);\n",
              "    box-shadow: 0 1px 2px rgba(60, 64, 67, 0.3), 0 1px 3px 1px rgba(60, 64, 67, 0.15);\n",
              "    fill: var(--button-hover-fill-color);\n",
              "  }\n",
              "\n",
              "  .colab-df-quickchart-complete:disabled,\n",
              "  .colab-df-quickchart-complete:disabled:hover {\n",
              "    background-color: var(--disabled-bg-color);\n",
              "    fill: var(--disabled-fill-color);\n",
              "    box-shadow: none;\n",
              "  }\n",
              "\n",
              "  .colab-df-spinner {\n",
              "    border: 2px solid var(--fill-color);\n",
              "    border-color: transparent;\n",
              "    border-bottom-color: var(--fill-color);\n",
              "    animation:\n",
              "      spin 1s steps(1) infinite;\n",
              "  }\n",
              "\n",
              "  @keyframes spin {\n",
              "    0% {\n",
              "      border-color: transparent;\n",
              "      border-bottom-color: var(--fill-color);\n",
              "      border-left-color: var(--fill-color);\n",
              "    }\n",
              "    20% {\n",
              "      border-color: transparent;\n",
              "      border-left-color: var(--fill-color);\n",
              "      border-top-color: var(--fill-color);\n",
              "    }\n",
              "    30% {\n",
              "      border-color: transparent;\n",
              "      border-left-color: var(--fill-color);\n",
              "      border-top-color: var(--fill-color);\n",
              "      border-right-color: var(--fill-color);\n",
              "    }\n",
              "    40% {\n",
              "      border-color: transparent;\n",
              "      border-right-color: var(--fill-color);\n",
              "      border-top-color: var(--fill-color);\n",
              "    }\n",
              "    60% {\n",
              "      border-color: transparent;\n",
              "      border-right-color: var(--fill-color);\n",
              "    }\n",
              "    80% {\n",
              "      border-color: transparent;\n",
              "      border-right-color: var(--fill-color);\n",
              "      border-bottom-color: var(--fill-color);\n",
              "    }\n",
              "    90% {\n",
              "      border-color: transparent;\n",
              "      border-bottom-color: var(--fill-color);\n",
              "    }\n",
              "  }\n",
              "</style>\n",
              "\n",
              "  <script>\n",
              "    async function quickchart(key) {\n",
              "      const quickchartButtonEl =\n",
              "        document.querySelector('#' + key + ' button');\n",
              "      quickchartButtonEl.disabled = true;  // To prevent multiple clicks.\n",
              "      quickchartButtonEl.classList.add('colab-df-spinner');\n",
              "      try {\n",
              "        const charts = await google.colab.kernel.invokeFunction(\n",
              "            'suggestCharts', [key], {});\n",
              "      } catch (error) {\n",
              "        console.error('Error during call to suggestCharts:', error);\n",
              "      }\n",
              "      quickchartButtonEl.classList.remove('colab-df-spinner');\n",
              "      quickchartButtonEl.classList.add('colab-df-quickchart-complete');\n",
              "    }\n",
              "    (() => {\n",
              "      let quickchartButtonEl =\n",
              "        document.querySelector('#df-fbdc3933-bfd9-46e0-9699-97379cfedf2c button');\n",
              "      quickchartButtonEl.style.display =\n",
              "        google.colab.kernel.accessAllowed ? 'block' : 'none';\n",
              "    })();\n",
              "  </script>\n",
              "</div>\n",
              "\n",
              "    </div>\n",
              "  </div>\n"
            ],
            "application/vnd.google.colaboratory.intrinsic+json": {
              "type": "dataframe",
              "variable_name": "df",
              "summary": "{\n  \"name\": \"df\",\n  \"rows\": 12,\n  \"fields\": [\n    {\n      \"column\": \"Month\",\n      \"properties\": {\n        \"dtype\": \"string\",\n        \"num_unique_values\": 12,\n        \"samples\": [\n          \"Nov\",\n          \"Oct\",\n          \"Jan\"\n        ],\n        \"semantic_type\": \"\",\n        \"description\": \"\"\n      }\n    },\n    {\n      \"column\": \"Sales\",\n      \"properties\": {\n        \"dtype\": \"number\",\n        \"std\": 89,\n        \"min\": 200,\n        \"max\": 470,\n        \"num_unique_values\": 12,\n        \"samples\": [\n          450,\n          420,\n          200\n        ],\n        \"semantic_type\": \"\",\n        \"description\": \"\"\n      }\n    }\n  ]\n}"
            }
          },
          "metadata": {},
          "execution_count": 2
        }
      ],
      "source": [
        "df = pd.read_csv(\"data.csv\")\n",
        "df.head()"
      ]
    },
    {
      "cell_type": "markdown",
      "id": "9c503e06-eb46-407f-b7f9-46dcaedfa500",
      "metadata": {
        "id": "9c503e06-eb46-407f-b7f9-46dcaedfa500"
      },
      "source": [
        "### Создание нового столбца в DataFrame df, который содержит числовые значения для каждого месяца, начиная с 1 и заканчивая количеством месяцев в вашем наборе данных. Это позволяет использовать числовые значения для построения модели линейной регрессии."
      ]
    },
    {
      "cell_type": "code",
      "execution_count": 3,
      "id": "ba203ba0-3de8-4a60-acdd-3e927ff11596",
      "metadata": {
        "id": "ba203ba0-3de8-4a60-acdd-3e927ff11596"
      },
      "outputs": [],
      "source": [
        "df['Month_num'] = np.arange(1, len(df) + 1)"
      ]
    },
    {
      "cell_type": "markdown",
      "id": "374fab2b-8ac2-4e43-9f2c-eb2c8e5defd5",
      "metadata": {
        "id": "374fab2b-8ac2-4e43-9f2c-eb2c8e5defd5"
      },
      "source": [
        "### Расчет средних продаж и вывод результата"
      ]
    },
    {
      "cell_type": "code",
      "execution_count": 4,
      "id": "e01e7737-a12b-4eb6-a10a-a7d82b856f32",
      "metadata": {
        "colab": {
          "base_uri": "https://localhost:8080/"
        },
        "id": "e01e7737-a12b-4eb6-a10a-a7d82b856f32",
        "outputId": "ed8f5faa-6d7a-4cd2-a987-6dae87495e71"
      },
      "outputs": [
        {
          "output_type": "stream",
          "name": "stdout",
          "text": [
            "Средние продажи: 335.0\n"
          ]
        }
      ],
      "source": [
        "average_sales = df['Sales'].mean()\n",
        "print(f'Средние продажи: {average_sales}')"
      ]
    },
    {
      "cell_type": "markdown",
      "id": "a29108a7-e39c-413b-9942-cfc816309773",
      "metadata": {
        "id": "a29108a7-e39c-413b-9942-cfc816309773"
      },
      "source": [
        "###  Создается график, который визуализирует данные о продажах по месяцам"
      ]
    },
    {
      "cell_type": "code",
      "execution_count": 9,
      "id": "7b3ebf31-31c8-4424-8bc2-77ed5869e9b9",
      "metadata": {
        "colab": {
          "base_uri": "https://localhost:8080/",
          "height": 472
        },
        "id": "7b3ebf31-31c8-4424-8bc2-77ed5869e9b9",
        "outputId": "9c841a97-9bcc-416c-8c7a-3ce3776673f1"
      },
      "outputs": [
        {
          "output_type": "display_data",
          "data": {
            "text/plain": [
              "<Figure size 640x480 with 1 Axes>"
            ],
            "image/png": "[encoded data removed]"
          },
          "metadata": {}
        }
      ],
      "source": [
        "plt.plot(df['Month'], df['Sales'], marker='o')\n",
        "plt.title('Продажи за месяц')\n",
        "plt.xlabel('Месяц')\n",
        "plt.ylabel('Продажи')\n",
        "plt.grid(True)\n",
        "plt.show()"
      ]
    },
    {
      "cell_type": "markdown",
      "id": "62b98e73-9984-46d9-be1d-816fceffd146",
      "metadata": {
        "id": "62b98e73-9984-46d9-be1d-816fceffd146"
      },
      "source": [
        "### Создание DataFrame для будущих месяцев, предсказание продаж на следующие месяцы и печать прогнозов"
      ]
    },
    {
      "cell_type": "code",
      "execution_count": 6,
      "id": "33d85a0c-5425-44d2-b9a4-3f9d05816e06",
      "metadata": {
        "colab": {
          "base_uri": "https://localhost:8080/"
        },
        "id": "33d85a0c-5425-44d2-b9a4-3f9d05816e06",
        "outputId": "f5d6e7f9-850b-4567-f6b4-26fcbf3c099c"
      },
      "outputs": [
        {
          "output_type": "stream",
          "name": "stdout",
          "text": [
            "Прогнозируемые продажи на следующие месяцы: [496.81818182 521.71328671 546.60839161]\n"
          ]
        }
      ],
      "source": [
        "# Разделение данных на признаки (X) и метки (y)\n",
        "X = df[['Month_num']]\n",
        "y = df['Sales']\n",
        "\n",
        "# Обучение модели линейной регрессии\n",
        "model = LinearRegression()\n",
        "model.fit(X, y)\n",
        "\n",
        "# Создание DataFrame для будущих месяцев\n",
        "future_months_df = pd.DataFrame({'Month_num': [13, 14, 15]})\n",
        "\n",
        "# Предсказание продаж на следующие месяцы\n",
        "predicted_sales = model.predict(future_months_df)\n",
        "\n",
        "# Печать прогнозов\n",
        "print(\"Прогнозируемые продажи на следующие месяцы:\", predicted_sales)"
      ]
    },
    {
      "cell_type": "markdown",
      "id": "3ffb5eaf-9776-441d-8f9c-a8bea63b5228",
      "metadata": {
        "id": "3ffb5eaf-9776-441d-8f9c-a8bea63b5228"
      },
      "source": [
        "### Прогнозирование, расчет среднеквадратичной ошибки (MSE), расчет коэффициента детерминации (R²) и вывод результатов"
      ]
    },
    {
      "cell_type": "code",
      "execution_count": 7,
      "id": "2f495824-483b-4dfc-84d4-292a23c995be",
      "metadata": {
        "colab": {
          "base_uri": "https://localhost:8080/"
        },
        "id": "2f495824-483b-4dfc-84d4-292a23c995be",
        "outputId": "bc633269-180f-4cab-dd94-d57f2e6b9dc7"
      },
      "outputs": [
        {
          "output_type": "stream",
          "name": "stdout",
          "text": [
            "MSE: 6.118881118881107, R²: 0.9991721919568594\n"
          ]
        }
      ],
      "source": [
        "y_pred = model.predict(X)\n",
        "mse = mean_squared_error(y, y_pred)\n",
        "r2 = r2_score(y, y_pred)\n",
        "\n",
        "print(f'MSE: {mse}, R²: {r2}')"
      ]
    },
    {
      "cell_type": "markdown",
      "id": "fbe8f938-31cc-4650-97b0-7b02c101c1fd",
      "metadata": {
        "id": "fbe8f938-31cc-4650-97b0-7b02c101c1fd"
      },
      "source": [
        "### Создается график, который визуализирует фактические и прогнозируемые продажи"
      ]
    },
    {
      "cell_type": "code",
      "execution_count": 11,
      "id": "b658b1bd-e630-44ee-8a28-1b7ca32391ba",
      "metadata": {
        "colab": {
          "base_uri": "https://localhost:8080/",
          "height": 501
        },
        "id": "b658b1bd-e630-44ee-8a28-1b7ca32391ba",
        "outputId": "e2eee883-4190-410a-c7b7-f8a981f9858c"
      },
      "outputs": [
        {
          "output_type": "display_data",
          "data": {
            "text/plain": [
              "<Figure size 640x480 with 1 Axes>"
            ],
            "image/png": "[encoded data removed]"
          },
          "metadata": {}
        }
      ],
      "source": [
        "# Построение графика с прогнозируемыми значениями\n",
        "plt.plot(df['Month_num'], df['Sales'], marker='o', label='Фактические продажи')\n",
        "plt.plot(np.arange(1, 16), np.concatenate([df['Sales'], predicted_sales]), linestyle='--', marker='x', label='Прогнозируемые продажи', color='red')\n",
        "plt.title('Прогноз продаж')\n",
        "plt.xlabel('Месяц')\n",
        "plt.ylabel('Продажи')\n",
        "\n",
        "# Исправление количества меток\n",
        "months_labels = ['Jan', 'Feb', 'Mar', 'Apr', 'May', 'Jun', 'Jul', 'Aug', 'Sep', 'Oct', 'Nov', 'Dec', 'Jan+1', 'Feb+1', 'Mar+1', 'Apr+1']\n",
        "plt.xticks(np.arange(1, 16), months_labels[:15], rotation=45)  # Убедитесь, что количество меток соответствует количеству позиций\n",
        "\n",
        "plt.legend()\n",
        "plt.grid(True)\n",
        "plt.show()"
      ]
    },
    {
      "cell_type": "code",
      "source": [],
      "metadata": {
        "id": "jjGt7Bv1fvWu"
      },
      "id": "jjGt7Bv1fvWu",
      "execution_count": null,
      "outputs": []
    }
  ],
  "metadata": {
    "kernelspec": {
      "display_name": "Python 3 (ipykernel)",
      "language": "python",
      "name": "python3"
    },
    "language_info": {
      "codemirror_mode": {
        "name": "ipython",
        "version": 3
      },
      "file_extension": ".py",
      "mimetype": "text/x-python",
      "name": "python",
      "nbconvert_exporter": "python",
      "pygments_lexer": "ipython3",
      "version": "3.11.3"
    },
    "colab": {
      "provenance": [],
      "include_colab_link": true
    }
  },
  "nbformat": 4,
  "nbformat_minor": 5
}